{
 "cells": [
  {
   "cell_type": "markdown",
   "metadata": {},
   "source": [
    "```\n",
    "\n",
    "ooo        ooooo           oooo  ooooooooooooo           o8o                                 \n",
    "`88.       .888'           `888  8'   888   `8           `\"'                                 \n",
    " 888b     d'888   .oooo.    888       888      oooo d8b oooo   .oooo.    .oooooooo  .ooooo.  \n",
    " 8 Y88. .P  888  `P  )88b   888       888      `888\"\"8P `888  `P  )88b  888' `88b  d88' `88b \n",
    " 8  `888'   888   .oP\"888   888       888       888      888   .oP\"888  888   888  888ooo888 \n",
    " 8    Y     888  d8(  888   888       888       888      888  d8(  888  `88bod8P'  888    .o \n",
    "o8o        o888o `Y888\"\"8o o888o     o888o     d888b    o888o `Y888\"\"8o `8oooooo.  `Y8bod8P' \n",
    "                                                                        d\"     YD            \n",
    "                                                                        \"Y88888P'            \n",
    "==============================================================================================\n",
    "\n",
    "Description: Statically triage new samples all under one roof. Uses a variety\n",
    "             of different scripts/tools within REMnux and generates reports automatically.\n",
    "\n",
    "Author: KrknSec\n",
    "\n",
    "==============================================================================================\n",
    "```"
   ]
  },
  {
   "cell_type": "code",
   "execution_count": null,
   "metadata": {},
   "outputs": [],
   "source": [
    "import os"
   ]
  },
  {
   "cell_type": "markdown",
   "metadata": {},
   "source": [
    "---\n",
    "\n",
    "## Input the path for the target binary and get the file hashes"
   ]
  },
  {
   "cell_type": "code",
   "execution_count": null,
   "metadata": {},
   "outputs": [],
   "source": [
    "TARGET = \"//home//remnux//Samples//asyncrat.mal\" # Place path of binary here\n",
    "\n",
    "print(\"[+] Fuzzy:\")\n",
    "os.system(\"ssdeep \" + TARGET)\n",
    "print(\"---------------------------------------------------\")\n",
    "print(\"[+] MD5:\")\n",
    "os.system(\"md5sum \" + TARGET)\n",
    "print(\"---------------------------------------------------\")\n",
    "print(\"[+] SHA1:\")\n",
    "os.system(\"sha1sum \" + TARGET)\n",
    "print(\"---------------------------------------------------\")\n",
    "print(\"[+] SHA256\")\n",
    "os.system(\"sha256sum \" + TARGET)\n",
    "print(\"---------------------------------------------------\")"
   ]
  },
  {
   "cell_type": "markdown",
   "metadata": {},
   "source": [
    "---\n",
    "\n",
    "## Get results from Detect-It-Easy (DiE)"
   ]
  },
  {
   "cell_type": "code",
   "execution_count": null,
   "metadata": {},
   "outputs": [],
   "source": [
    "# Get Basic\n",
    "print(\"[+] Detect-It-Easy Results:\")\n",
    "os.system(\"diec -i \" + TARGET)\n",
    "\n",
    "# Get compiler/packer\n",
    "os.system(\"diec -r \" + TARGET)\n",
    "\n",
    "# Get Entropy\n",
    "os.system(\"diec -e \" + TARGET)\n",
    "print(\"---------------------------------------------------\")"
   ]
  },
  {
   "cell_type": "markdown",
   "metadata": {},
   "source": [
    "---\n",
    "\n",
    "## Get TRiD results"
   ]
  },
  {
   "cell_type": "code",
   "execution_count": null,
   "metadata": {},
   "outputs": [],
   "source": [
    "#TRiD\n",
    "os.system(\"trid \" + TARGET)"
   ]
  },
  {
   "cell_type": "markdown",
   "metadata": {},
   "source": [
    "---\n",
    "\n",
    "## Get FLARE-Strings results"
   ]
  },
  {
   "cell_type": "code",
   "execution_count": null,
   "metadata": {},
   "outputs": [],
   "source": [
    "# FLARE strings\n",
    "os.system(\"flarestrings \" + TARGET)"
   ]
  },
  {
   "cell_type": "markdown",
   "metadata": {},
   "source": [
    "---\n",
    "\n",
    "## Get SignSrch results"
   ]
  },
  {
   "cell_type": "code",
   "execution_count": null,
   "metadata": {},
   "outputs": [],
   "source": [
    "#SignSrch\n",
    "os.system(\"signsrch \" + TARGET)"
   ]
  },
  {
   "cell_type": "markdown",
   "metadata": {},
   "source": [
    "---\n",
    "\n",
    "## Get Balbuzard results"
   ]
  },
  {
   "cell_type": "code",
   "execution_count": null,
   "metadata": {},
   "outputs": [],
   "source": [
    "#Balbuzard\n",
    "os.system(\"balbuzard \" + TARGET)"
   ]
  },
  {
   "cell_type": "markdown",
   "metadata": {},
   "source": [
    "---\n",
    "\n",
    "## Find and bruteforce XOR strings"
   ]
  },
  {
   "cell_type": "code",
   "execution_count": null,
   "metadata": {},
   "outputs": [],
   "source": [
    "# Get XOR strings\n",
    "os.system(\"brxor.py \" + TARGET)"
   ]
  },
  {
   "cell_type": "markdown",
   "metadata": {},
   "source": [
    "---\n",
    "\n",
    "## Find stack strings"
   ]
  },
  {
   "cell_type": "code",
   "execution_count": null,
   "metadata": {},
   "outputs": [],
   "source": [
    "# Get Stack Strings\n",
    "os.system(\"strdeob.pl \" + TARGET)"
   ]
  },
  {
   "cell_type": "markdown",
   "metadata": {},
   "source": [
    "---\n",
    "\n",
    "## Get FLOSS results"
   ]
  },
  {
   "cell_type": "code",
   "execution_count": null,
   "metadata": {},
   "outputs": [],
   "source": [
    "# Get FLOSS results\n",
    "os.system(\"floss \" + TARGET)"
   ]
  },
  {
   "cell_type": "markdown",
   "metadata": {},
   "source": [
    "---\n",
    "\n",
    "## Get CAPA results"
   ]
  },
  {
   "cell_type": "code",
   "execution_count": null,
   "metadata": {},
   "outputs": [],
   "source": [
    "# Get CAPA results\n",
    "os.system(\"capa \" + TARGET)\n",
    "os.system(\"capa -vv \" + TARGET)"
   ]
  }
 ],
 "metadata": {
  "kernelspec": {
   "display_name": "Python 3 (ipykernel)",
   "language": "python",
   "name": "python3"
  },
  "language_info": {
   "codemirror_mode": {
    "name": "ipython",
    "version": 3
   },
   "file_extension": ".py",
   "mimetype": "text/x-python",
   "name": "python",
   "nbconvert_exporter": "python",
   "pygments_lexer": "ipython3",
   "version": "3.8.10"
  }
 },
 "nbformat": 4,
 "nbformat_minor": 4
}
